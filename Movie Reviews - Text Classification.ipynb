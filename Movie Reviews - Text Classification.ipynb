{
 "cells": [
  {
   "cell_type": "code",
   "execution_count": 1,
   "metadata": {
    "executionInfo": {
     "elapsed": 1237,
     "status": "ok",
     "timestamp": 1607116523296,
     "user": {
      "displayName": "Hojin Mok",
      "photoUrl": "",
      "userId": "00800008926615240683"
     },
     "user_tz": 300
    },
    "id": "hZzsip8lmzsd"
   },
   "outputs": [],
   "source": [
    "import numpy as np\n",
    "import pandas as pd\n",
    "import matplotlib.pyplot as plt\n",
    "%matplotlib inline\n",
    "\n",
    "from sklearn.pipeline import Pipeline\n",
    "from sklearn.svm import LinearSVC\n",
    "from sklearn.metrics import confusion_matrix, classification_report\n",
    "from sklearn import metrics\n",
    "from sklearn.model_selection import train_test_split\n",
    "from sklearn.feature_extraction.text import TfidfVectorizer"
   ]
  },
  {
   "cell_type": "markdown",
   "metadata": {
    "id": "xKr2AO5OosW5"
   },
   "source": [
    "# **Part 1 - Data Preprocessing**"
   ]
  },
  {
   "cell_type": "code",
   "execution_count": 2,
   "metadata": {
    "colab": {
     "base_uri": "https://localhost:8080/",
     "height": 204
    },
    "executionInfo": {
     "elapsed": 3054,
     "status": "ok",
     "timestamp": 1607116622891,
     "user": {
      "displayName": "Hojin Mok",
      "photoUrl": "",
      "userId": "00800008926615240683"
     },
     "user_tz": 300
    },
    "id": "cRwmw_y1m_S2",
    "outputId": "ade76158-a6f5-4080-c29e-84a1393df6fb"
   },
   "outputs": [
    {
     "data": {
      "text/html": [
       "<div>\n",
       "<style scoped>\n",
       "    .dataframe tbody tr th:only-of-type {\n",
       "        vertical-align: middle;\n",
       "    }\n",
       "\n",
       "    .dataframe tbody tr th {\n",
       "        vertical-align: top;\n",
       "    }\n",
       "\n",
       "    .dataframe thead th {\n",
       "        text-align: right;\n",
       "    }\n",
       "</style>\n",
       "<table border=\"1\" class=\"dataframe\">\n",
       "  <thead>\n",
       "    <tr style=\"text-align: right;\">\n",
       "      <th></th>\n",
       "      <th>label</th>\n",
       "      <th>review</th>\n",
       "    </tr>\n",
       "  </thead>\n",
       "  <tbody>\n",
       "    <tr>\n",
       "      <th>0</th>\n",
       "      <td>neg</td>\n",
       "      <td>how do films like mouse hunt get into theatres...</td>\n",
       "    </tr>\n",
       "    <tr>\n",
       "      <th>1</th>\n",
       "      <td>neg</td>\n",
       "      <td>some talented actresses are blessed with a dem...</td>\n",
       "    </tr>\n",
       "    <tr>\n",
       "      <th>2</th>\n",
       "      <td>pos</td>\n",
       "      <td>this has been an extraordinary year for austra...</td>\n",
       "    </tr>\n",
       "    <tr>\n",
       "      <th>3</th>\n",
       "      <td>pos</td>\n",
       "      <td>according to hollywood movies made in last few...</td>\n",
       "    </tr>\n",
       "    <tr>\n",
       "      <th>4</th>\n",
       "      <td>neg</td>\n",
       "      <td>my first press screening of 1998 and already i...</td>\n",
       "    </tr>\n",
       "  </tbody>\n",
       "</table>\n",
       "</div>"
      ],
      "text/plain": [
       "  label                                             review\n",
       "0   neg  how do films like mouse hunt get into theatres...\n",
       "1   neg  some talented actresses are blessed with a dem...\n",
       "2   pos  this has been an extraordinary year for austra...\n",
       "3   pos  according to hollywood movies made in last few...\n",
       "4   neg  my first press screening of 1998 and already i..."
      ]
     },
     "execution_count": 2,
     "metadata": {},
     "output_type": "execute_result"
    }
   ],
   "source": [
    "df = pd.read_csv('moviereviews.tsv', sep='\\t')\n",
    "df.head()"
   ]
  },
  {
   "cell_type": "code",
   "execution_count": 3,
   "metadata": {
    "colab": {
     "base_uri": "https://localhost:8080/"
    },
    "executionInfo": {
     "elapsed": 240,
     "status": "ok",
     "timestamp": 1607116624764,
     "user": {
      "displayName": "Hojin Mok",
      "photoUrl": "",
      "userId": "00800008926615240683"
     },
     "user_tz": 300
    },
    "id": "BceMI9-knYAR",
    "outputId": "19fcdf33-3109-4317-ef7e-09c740a7b5b7"
   },
   "outputs": [
    {
     "data": {
      "text/plain": [
       "2000"
      ]
     },
     "execution_count": 3,
     "metadata": {},
     "output_type": "execute_result"
    }
   ],
   "source": [
    "len(df) #we got 2000 reviews"
   ]
  },
  {
   "cell_type": "code",
   "execution_count": 4,
   "metadata": {
    "colab": {
     "base_uri": "https://localhost:8080/"
    },
    "executionInfo": {
     "elapsed": 224,
     "status": "ok",
     "timestamp": 1607116677352,
     "user": {
      "displayName": "Hojin Mok",
      "photoUrl": "",
      "userId": "00800008926615240683"
     },
     "user_tz": 300
    },
    "id": "uOswZgeenZJo",
    "outputId": "7d4dca66-41ef-46bc-b473-e701f76db3b1"
   },
   "outputs": [
    {
     "name": "stdout",
     "output_type": "stream",
     "text": [
      "tim robbins and martin lawernce team up in this road movie comedy . \n",
      "robbins plays an exec who discovers his wife having sex with his boss . \n",
      "he goes into depression , and drives around his neighbourhood until he arrives inside the usual 'ghetto' side of every american city . \n",
      "there , lawernce attempts to steal his car , but to no avail , and is dragged along with robbin's on a trip to arizona . \n",
      "there , they hold up a store , are mistaken for two other robbers ( just like in my cousin vinny ) and are chased by the police , and the other robbers . \n",
      "of course , there's gags along the way , usually from lawernce . \n",
      "although the film is midly funny , and quite watchable , there's something so horribly familiar about it all . \n",
      "this film should really be called beverly hills midnight run there's lawernce with his wisecracking and heavy profanity , just like eddie murphy in beverly hills cop , and pratically the same idea as midnight run . \n",
      "it's full of all the road movie cliches , and even has a 'comedy' car chase , which just seemed so eighties . \n",
      "even the credit sequence seemed to be out of a steve martin , or chevy chase , eighties comedy . \n",
      "there also isn't much chemistry between robbins and lawernce . \n",
      "in planes , trains and automobiles , there was real chemistry between steve martin and john candy . \n",
      "in nothing to lose , there is hardly chemistry at all . \n",
      "towards the end the chemistry seems to work , but for the bulk of the film , there is hardly any , \n",
      "the director directs the film in a workman like fashion , but gets the jokes across . \n",
      "and although there is no chemistry between the two leads , they give good performances on their own . \n",
      "lawerence gives a good eddie murphy performance , and robbin's is alright aswell . \n",
      "however , robbin's performance is nowhere near as good as the characters he played in jacob's ladder , and the player . \n",
      "in fact , if you want to see robbin's do comedy much better than in nothing to lose , i suggest you rent out the hudsucker proxy , where he is much funnier . \n",
      "nothing to lose does have some funny moments in it , however . \n",
      "the humour isn't particulary sophisticated , but if you enojyed dumb & dumber , you might enjoy this . \n",
      "the characters in arizona are funny , and there's also a good scene where robbin's asks a shopkeeper which 'threatening approach' was better , lawerences ( which consisted of lawerence threatening to shoot the shopkeeper's ass , and swearing a lot ) , or himselfs , ( which was speaking in a deep , scary voice ) but the gags are predictable , the lack of chemistry infurating , and the ending too far-fetched and 'perfect' \n",
      "nothing to lose then , is robbin's first 'bad' movie ( and hopefully his last ) , and suggests that odereick should twice before making another film . \n",
      "he nearly ruined carrey's career with ace ventura : when nature calls , let's hope he hasn't ruined robbin's ( or even lawerence's ) with nothing to lose . \n",
      "\n"
     ]
    }
   ],
   "source": [
    "print(df['review'][7]) #here's a positive review"
   ]
  },
  {
   "cell_type": "code",
   "execution_count": 5,
   "metadata": {
    "colab": {
     "base_uri": "https://localhost:8080/"
    },
    "executionInfo": {
     "elapsed": 364,
     "status": "ok",
     "timestamp": 1607116711559,
     "user": {
      "displayName": "Hojin Mok",
      "photoUrl": "",
      "userId": "00800008926615240683"
     },
     "user_tz": 300
    },
    "id": "tT2VAO8Xnl_p",
    "outputId": "f32e57dd-c109-408f-b640-40b017a12090"
   },
   "outputs": [
    {
     "data": {
      "text/plain": [
       "label      0\n",
       "review    35\n",
       "dtype: int64"
      ]
     },
     "execution_count": 5,
     "metadata": {},
     "output_type": "execute_result"
    }
   ],
   "source": [
    "df.isnull().sum() #some reviews are empty, so they were probably randomly assigned labels"
   ]
  },
  {
   "cell_type": "code",
   "execution_count": 6,
   "metadata": {
    "colab": {
     "base_uri": "https://localhost:8080/"
    },
    "executionInfo": {
     "elapsed": 225,
     "status": "ok",
     "timestamp": 1607116751961,
     "user": {
      "displayName": "Hojin Mok",
      "photoUrl": "",
      "userId": "00800008926615240683"
     },
     "user_tz": 300
    },
    "id": "eUKjArSVnuT7",
    "outputId": "770ad3af-c3e7-46ea-82de-8d1981460985"
   },
   "outputs": [
    {
     "data": {
      "text/plain": [
       "label     0\n",
       "review    0\n",
       "dtype: int64"
      ]
     },
     "execution_count": 6,
     "metadata": {},
     "output_type": "execute_result"
    }
   ],
   "source": [
    "df.dropna(inplace=True) #dropping null values\n",
    "df.isnull().sum()"
   ]
  },
  {
   "cell_type": "code",
   "execution_count": 7,
   "metadata": {
    "colab": {
     "base_uri": "https://localhost:8080/"
    },
    "executionInfo": {
     "elapsed": 260,
     "status": "ok",
     "timestamp": 1607117039002,
     "user": {
      "displayName": "Hojin Mok",
      "photoUrl": "",
      "userId": "00800008926615240683"
     },
     "user_tz": 300
    },
    "id": "Rrqz3IBrokpt",
    "outputId": "ab7b1360-1231-42d5-850e-4dcffa233d27"
   },
   "outputs": [
    {
     "name": "stdout",
     "output_type": "stream",
     "text": [
      "False\n",
      "True\n"
     ]
    }
   ],
   "source": [
    "#so we took care of null values, but we also want to get rid of reviews that are just empty strings. We can use the .isspace() attribute to do this\n",
    "mystring = '117'\n",
    "myempty = '                  '\n",
    "\n",
    "print(mystring.isspace()) #see it's true\n",
    "print(myempty.isspace()) #see its s false"
   ]
  },
  {
   "cell_type": "code",
   "execution_count": 8,
   "metadata": {
    "executionInfo": {
     "elapsed": 233,
     "status": "ok",
     "timestamp": 1607120611928,
     "user": {
      "displayName": "Hojin Mok",
      "photoUrl": "",
      "userId": "00800008926615240683"
     },
     "user_tz": 300
    },
    "id": "Hs5Y_NhDn4NX"
   },
   "outputs": [
    {
     "data": {
      "text/plain": [
       "27"
      ]
     },
     "execution_count": 8,
     "metadata": {},
     "output_type": "execute_result"
    }
   ],
   "source": [
    "blanks = [] #initializing our list of blanks, so that once we iterate through our dataframe, we can add empty string reviews to this\n",
    "\n",
    "for index,label,review in df.itertuples():\n",
    "  #returning index location, label, review through our dataframe using the .itertuples() callback\n",
    "  if review.isspace():\n",
    "    blanks.append(index) #appending the index number for each review that's just an empty string\n",
    "\n",
    "len(blanks)"
   ]
  },
  {
   "cell_type": "code",
   "execution_count": 9,
   "metadata": {
    "colab": {
     "base_uri": "https://localhost:8080/"
    },
    "executionInfo": {
     "elapsed": 355,
     "status": "ok",
     "timestamp": 1607120640882,
     "user": {
      "displayName": "Hojin Mok",
      "photoUrl": "",
      "userId": "00800008926615240683"
     },
     "user_tz": 300
    },
    "id": "PbTEWcA_2nZj",
    "outputId": "f0208faa-cab0-4cc9-f99c-8b437b7a6e09"
   },
   "outputs": [
    {
     "data": {
      "text/plain": [
       "1938"
      ]
     },
     "execution_count": 9,
     "metadata": {},
     "output_type": "execute_result"
    }
   ],
   "source": [
    "df.drop(blanks,inplace=True) #so we're dropping the indexes listed within blanks\n",
    "len(df) #2000 - 35 null - 27 blanks = 1938"
   ]
  },
  {
   "cell_type": "markdown",
   "metadata": {
    "id": "jcBVR7i03FuV"
   },
   "source": [
    "# **Part 2 - Fit and Transform**"
   ]
  },
  {
   "cell_type": "code",
   "execution_count": 10,
   "metadata": {
    "executionInfo": {
     "elapsed": 225,
     "status": "ok",
     "timestamp": 1607120673544,
     "user": {
      "displayName": "Hojin Mok",
      "photoUrl": "",
      "userId": "00800008926615240683"
     },
     "user_tz": 300
    },
    "id": "GqigJyKa2tnx"
   },
   "outputs": [],
   "source": [
    "X = df['review'] #passing in the review column as X\n",
    "y = df['label'] #y is the label on if the review was positive or negative\n",
    "\n",
    "X_train, X_test, y_train, y_test = train_test_split(X, y, test_size=0.25)"
   ]
  },
  {
   "cell_type": "code",
   "execution_count": 11,
   "metadata": {
    "colab": {
     "base_uri": "https://localhost:8080/"
    },
    "executionInfo": {
     "elapsed": 431,
     "status": "ok",
     "timestamp": 1607120615472,
     "user": {
      "displayName": "Hojin Mok",
      "photoUrl": "",
      "userId": "00800008926615240683"
     },
     "user_tz": 300
    },
    "id": "TrKo4DWU2hzt",
    "outputId": "cb2557fd-a31b-40ac-e43f-f8730af8fd23"
   },
   "outputs": [
    {
     "data": {
      "text/plain": [
       "(1453,)"
      ]
     },
     "execution_count": 11,
     "metadata": {},
     "output_type": "execute_result"
    }
   ],
   "source": [
    "#Below is to show what TfidfVectorizer does to the train data\n",
    "X_train.shape #so original shape of 1453 messages"
   ]
  },
  {
   "cell_type": "code",
   "execution_count": 12,
   "metadata": {},
   "outputs": [
    {
     "data": {
      "text/plain": [
       "(1453, 34737)"
      ]
     },
     "execution_count": 12,
     "metadata": {},
     "output_type": "execute_result"
    }
   ],
   "source": [
    "#TfidfVectorizer first performs a counter vectorization on each unique word, then applies a Tfidf transform on the unique words\n",
    "vectorizer = TfidfVectorizer()\n",
    "X_train_tfidf = vectorizer.fit_transform(X_train)\n",
    "X_train_tfidf.shape #resulting shape now detected 34600 unique words over 1453 messages"
   ]
  },
  {
   "cell_type": "code",
   "execution_count": 13,
   "metadata": {
    "executionInfo": {
     "elapsed": 228,
     "status": "ok",
     "timestamp": 1607120838758,
     "user": {
      "displayName": "Hojin Mok",
      "photoUrl": "",
      "userId": "00800008926615240683"
     },
     "user_tz": 300
    },
    "id": "j6I918I621oE"
   },
   "outputs": [],
   "source": [
    "#Our pipeline does the following steps:\n",
    "#Step 1: Count vectorize each unique word then apply TFIDF feature extraction transform on X_train data. This is done using TfidfVectorizer() imported above \n",
    "#Step 2: Fit the data using LinearSVC. The purpose of the Support Vector Classifier is to fit to the data and return a best fit hyperplane that categorizes our data\n",
    "text_clf = Pipeline([('tfidf', TfidfVectorizer()), \n",
    "                     ('clf', LinearSVC())]) #so each tuple in the pipeline is a step, starting with the TfidfVectorizer, then utilizing LinearSVC"
   ]
  },
  {
   "cell_type": "code",
   "execution_count": 14,
   "metadata": {
    "colab": {
     "base_uri": "https://localhost:8080/"
    },
    "executionInfo": {
     "elapsed": 1056,
     "status": "ok",
     "timestamp": 1607120843477,
     "user": {
      "displayName": "Hojin Mok",
      "photoUrl": "",
      "userId": "00800008926615240683"
     },
     "user_tz": 300
    },
    "id": "WVi4D2-z3d9H",
    "outputId": "705833ba-16fc-4a46-b918-669e7161ce62"
   },
   "outputs": [
    {
     "data": {
      "text/plain": [
       "Pipeline(steps=[('tfidf', TfidfVectorizer()), ('clf', LinearSVC())])"
      ]
     },
     "execution_count": 14,
     "metadata": {},
     "output_type": "execute_result"
    }
   ],
   "source": [
    "text_clf.fit(X_train,y_train) #now we just called our pipelines and ran our X_train & y_train to it. We didn't need to create an instance of each item and fit them separately"
   ]
  },
  {
   "cell_type": "markdown",
   "metadata": {
    "id": "oe5yO7pjYXDh"
   },
   "source": [
    "# **Part 3 - Predicting and Results**"
   ]
  },
  {
   "cell_type": "code",
   "execution_count": 15,
   "metadata": {
    "colab": {
     "base_uri": "https://localhost:8080/",
     "height": 111
    },
    "executionInfo": {
     "elapsed": 482,
     "status": "ok",
     "timestamp": 1607120865136,
     "user": {
      "displayName": "Hojin Mok",
      "photoUrl": "",
      "userId": "00800008926615240683"
     },
     "user_tz": 300
    },
    "id": "OqsdhRNv3e6T",
    "outputId": "7800e63c-3ba9-4b44-e721-063cafb2736a"
   },
   "outputs": [
    {
     "data": {
      "text/html": [
       "<div>\n",
       "<style scoped>\n",
       "    .dataframe tbody tr th:only-of-type {\n",
       "        vertical-align: middle;\n",
       "    }\n",
       "\n",
       "    .dataframe tbody tr th {\n",
       "        vertical-align: top;\n",
       "    }\n",
       "\n",
       "    .dataframe thead th {\n",
       "        text-align: right;\n",
       "    }\n",
       "</style>\n",
       "<table border=\"1\" class=\"dataframe\">\n",
       "  <thead>\n",
       "    <tr style=\"text-align: right;\">\n",
       "      <th></th>\n",
       "      <th>pos</th>\n",
       "      <th>neg</th>\n",
       "    </tr>\n",
       "  </thead>\n",
       "  <tbody>\n",
       "    <tr>\n",
       "      <th>pos</th>\n",
       "      <td>198</td>\n",
       "      <td>38</td>\n",
       "    </tr>\n",
       "    <tr>\n",
       "      <th>neg</th>\n",
       "      <td>37</td>\n",
       "      <td>212</td>\n",
       "    </tr>\n",
       "  </tbody>\n",
       "</table>\n",
       "</div>"
      ],
      "text/plain": [
       "     pos  neg\n",
       "pos  198   38\n",
       "neg   37  212"
      ]
     },
     "execution_count": 15,
     "metadata": {},
     "output_type": "execute_result"
    }
   ],
   "source": [
    "predictions = text_clf.predict(X_test)\n",
    "\n",
    "df = pd.DataFrame(metrics.confusion_matrix(y_test,predictions), index=['pos','neg'], columns=['pos','neg'])\n",
    "df #performing way better now"
   ]
  },
  {
   "cell_type": "code",
   "execution_count": 16,
   "metadata": {
    "colab": {
     "base_uri": "https://localhost:8080/"
    },
    "executionInfo": {
     "elapsed": 221,
     "status": "ok",
     "timestamp": 1607120872851,
     "user": {
      "displayName": "Hojin Mok",
      "photoUrl": "",
      "userId": "00800008926615240683"
     },
     "user_tz": 300
    },
    "id": "ch6SDKQW3kVv",
    "outputId": "3af8230b-9f72-46bb-cc66-64a15671fb68"
   },
   "outputs": [
    {
     "name": "stdout",
     "output_type": "stream",
     "text": [
      "              precision    recall  f1-score   support\n",
      "\n",
      "         neg       0.84      0.84      0.84       236\n",
      "         pos       0.85      0.85      0.85       249\n",
      "\n",
      "    accuracy                           0.85       485\n",
      "   macro avg       0.85      0.85      0.85       485\n",
      "weighted avg       0.85      0.85      0.85       485\n",
      "\n"
     ]
    }
   ],
   "source": [
    "print(classification_report(y_test,predictions)) #performing way better now"
   ]
  },
  {
   "cell_type": "code",
   "execution_count": 17,
   "metadata": {
    "colab": {
     "base_uri": "https://localhost:8080/"
    },
    "executionInfo": {
     "elapsed": 257,
     "status": "ok",
     "timestamp": 1607120884855,
     "user": {
      "displayName": "Hojin Mok",
      "photoUrl": "",
      "userId": "00800008926615240683"
     },
     "user_tz": 300
    },
    "id": "rpfasPJN3mSW",
    "outputId": "62c19cd4-7ea7-42c8-f011-290c6058f706"
   },
   "outputs": [
    {
     "name": "stdout",
     "output_type": "stream",
     "text": [
      "0.845360824742268\n"
     ]
    }
   ],
   "source": [
    "print(metrics.accuracy_score(y_test,predictions))"
   ]
  },
  {
   "cell_type": "code",
   "execution_count": 18,
   "metadata": {},
   "outputs": [
    {
     "data": {
      "text/plain": [
       "array(['pos'], dtype=object)"
      ]
     },
     "execution_count": 18,
     "metadata": {},
     "output_type": "execute_result"
    }
   ],
   "source": [
    "text_clf.predict(['The director did a great job']) #tells me this is positive"
   ]
  },
  {
   "cell_type": "code",
   "execution_count": 19,
   "metadata": {},
   "outputs": [
    {
     "data": {
      "text/plain": [
       "array(['pos'], dtype=object)"
      ]
     },
     "execution_count": 19,
     "metadata": {},
     "output_type": "execute_result"
    }
   ],
   "source": [
    "text_clf.predict([\"The acting was very well done\"]) #tells me this is positive"
   ]
  },
  {
   "cell_type": "code",
   "execution_count": 20,
   "metadata": {},
   "outputs": [
    {
     "data": {
      "text/plain": [
       "array(['neg'], dtype=object)"
      ]
     },
     "execution_count": 20,
     "metadata": {},
     "output_type": "execute_result"
    }
   ],
   "source": [
    "text_clf.predict([\"The acting was very well done, but the movie's itself was boring\"]) #notice how despite me praising the actor, it picked up on my final negative review message"
   ]
  },
  {
   "cell_type": "code",
   "execution_count": 21,
   "metadata": {
    "id": "yFnaYuiR3pNS"
   },
   "outputs": [
    {
     "data": {
      "text/plain": [
       "array(['neg'], dtype=object)"
      ]
     },
     "execution_count": 21,
     "metadata": {},
     "output_type": "execute_result"
    }
   ],
   "source": [
    "text_clf.predict(['I love this movie!']) #tells me this is negative, which is wrong"
   ]
  }
 ],
 "metadata": {
  "colab": {
   "authorship_tag": "ABX9TyPyeV/OgBdjIZDjEi1QiF8R",
   "collapsed_sections": [],
   "mount_file_id": "1_1mtPoPFGeFI-z7Mz6SoJAh4xsQMjBDL",
   "name": "Text Classification Project.ipynb",
   "provenance": []
  },
  "kernelspec": {
   "display_name": "Python 3",
   "language": "python",
   "name": "python3"
  },
  "language_info": {
   "codemirror_mode": {
    "name": "ipython",
    "version": 3
   },
   "file_extension": ".py",
   "mimetype": "text/x-python",
   "name": "python",
   "nbconvert_exporter": "python",
   "pygments_lexer": "ipython3",
   "version": "3.8.3"
  }
 },
 "nbformat": 4,
 "nbformat_minor": 4
}
