{
 "cells": [
  {
   "cell_type": "code",
   "execution_count": 1,
   "metadata": {
    "executionInfo": {
     "elapsed": 345,
     "status": "ok",
     "timestamp": 1607112429210,
     "user": {
      "displayName": "Hojin Mok",
      "photoUrl": "",
      "userId": "00800008926615240683"
     },
     "user_tz": 300
    },
    "id": "kCRb2ZppFo90"
   },
   "outputs": [],
   "source": [
    "import numpy as np\n",
    "import pandas as pd\n",
    "import matplotlib.pyplot as plt\n",
    "%matplotlib inline\n",
    "\n",
    "from sklearn.pipeline import Pipeline\n",
    "from sklearn.svm import LinearSVC\n",
    "from sklearn.metrics import confusion_matrix, classification_report\n",
    "from sklearn import metrics\n",
    "from sklearn.model_selection import train_test_split\n",
    "from sklearn.feature_extraction.text import TfidfVectorizer"
   ]
  },
  {
   "cell_type": "code",
   "execution_count": 2,
   "metadata": {
    "colab": {
     "base_uri": "https://localhost:8080/",
     "height": 204
    },
    "executionInfo": {
     "elapsed": 2012,
     "status": "ok",
     "timestamp": 1607110505169,
     "user": {
      "displayName": "Hojin Mok",
      "photoUrl": "",
      "userId": "00800008926615240683"
     },
     "user_tz": 300
    },
    "id": "yGBsV-MTP5e5",
    "outputId": "e1c8adb4-6134-469e-8ae1-f5727e2a92b3"
   },
   "outputs": [
    {
     "data": {
      "text/html": [
       "<div>\n",
       "<style scoped>\n",
       "    .dataframe tbody tr th:only-of-type {\n",
       "        vertical-align: middle;\n",
       "    }\n",
       "\n",
       "    .dataframe tbody tr th {\n",
       "        vertical-align: top;\n",
       "    }\n",
       "\n",
       "    .dataframe thead th {\n",
       "        text-align: right;\n",
       "    }\n",
       "</style>\n",
       "<table border=\"1\" class=\"dataframe\">\n",
       "  <thead>\n",
       "    <tr style=\"text-align: right;\">\n",
       "      <th></th>\n",
       "      <th>label</th>\n",
       "      <th>message</th>\n",
       "      <th>length</th>\n",
       "      <th>punct</th>\n",
       "    </tr>\n",
       "  </thead>\n",
       "  <tbody>\n",
       "    <tr>\n",
       "      <th>0</th>\n",
       "      <td>ham</td>\n",
       "      <td>Go until jurong point, crazy.. Available only ...</td>\n",
       "      <td>111</td>\n",
       "      <td>9</td>\n",
       "    </tr>\n",
       "    <tr>\n",
       "      <th>1</th>\n",
       "      <td>ham</td>\n",
       "      <td>Ok lar... Joking wif u oni...</td>\n",
       "      <td>29</td>\n",
       "      <td>6</td>\n",
       "    </tr>\n",
       "    <tr>\n",
       "      <th>2</th>\n",
       "      <td>spam</td>\n",
       "      <td>Free entry in 2 a wkly comp to win FA Cup fina...</td>\n",
       "      <td>155</td>\n",
       "      <td>6</td>\n",
       "    </tr>\n",
       "    <tr>\n",
       "      <th>3</th>\n",
       "      <td>ham</td>\n",
       "      <td>U dun say so early hor... U c already then say...</td>\n",
       "      <td>49</td>\n",
       "      <td>6</td>\n",
       "    </tr>\n",
       "    <tr>\n",
       "      <th>4</th>\n",
       "      <td>ham</td>\n",
       "      <td>Nah I don't think he goes to usf, he lives aro...</td>\n",
       "      <td>61</td>\n",
       "      <td>2</td>\n",
       "    </tr>\n",
       "  </tbody>\n",
       "</table>\n",
       "</div>"
      ],
      "text/plain": [
       "  label                                            message  length  punct\n",
       "0   ham  Go until jurong point, crazy.. Available only ...     111      9\n",
       "1   ham                      Ok lar... Joking wif u oni...      29      6\n",
       "2  spam  Free entry in 2 a wkly comp to win FA Cup fina...     155      6\n",
       "3   ham  U dun say so early hor... U c already then say...      49      6\n",
       "4   ham  Nah I don't think he goes to usf, he lives aro...      61      2"
      ]
     },
     "execution_count": 2,
     "metadata": {},
     "output_type": "execute_result"
    }
   ],
   "source": [
    "df = pd.read_csv('smsspamcollection.tsv', sep='\\t') #loading in the data separated by tab\n",
    "df.head()"
   ]
  },
  {
   "cell_type": "code",
   "execution_count": 3,
   "metadata": {
    "colab": {
     "base_uri": "https://localhost:8080/"
    },
    "executionInfo": {
     "elapsed": 399,
     "status": "ok",
     "timestamp": 1607110513834,
     "user": {
      "displayName": "Hojin Mok",
      "photoUrl": "",
      "userId": "00800008926615240683"
     },
     "user_tz": 300
    },
    "id": "VlinWKchP5_G",
    "outputId": "3e585eea-e11f-4028-a3cd-55b2ebfc350b"
   },
   "outputs": [
    {
     "data": {
      "text/plain": [
       "label      0\n",
       "message    0\n",
       "length     0\n",
       "punct      0\n",
       "dtype: int64"
      ]
     },
     "execution_count": 3,
     "metadata": {},
     "output_type": "execute_result"
    }
   ],
   "source": [
    "df.isnull().sum() #checking to see if there's any null data lines"
   ]
  },
  {
   "cell_type": "code",
   "execution_count": 4,
   "metadata": {
    "colab": {
     "base_uri": "https://localhost:8080/"
    },
    "executionInfo": {
     "elapsed": 414,
     "status": "ok",
     "timestamp": 1607110549150,
     "user": {
      "displayName": "Hojin Mok",
      "photoUrl": "",
      "userId": "00800008926615240683"
     },
     "user_tz": 300
    },
    "id": "Jpu56TP3QFL8",
    "outputId": "ea34b943-a067-4059-cd00-9668087a0e43"
   },
   "outputs": [
    {
     "data": {
      "text/plain": [
       "ham     4825\n",
       "spam     747\n",
       "Name: label, dtype: int64"
      ]
     },
     "execution_count": 4,
     "metadata": {},
     "output_type": "execute_result"
    }
   ],
   "source": [
    "df['label'].value_counts() #so we have an unbalanced dataset with more ham than spam"
   ]
  },
  {
   "cell_type": "markdown",
   "metadata": {
    "id": "ZWzecKf4QSQf"
   },
   "source": [
    "# **Part 1 - Setting up Train Test Split**"
   ]
  },
  {
   "cell_type": "code",
   "execution_count": 5,
   "metadata": {
    "executionInfo": {
     "elapsed": 343,
     "status": "ok",
     "timestamp": 1607110601711,
     "user": {
      "displayName": "Hojin Mok",
      "photoUrl": "",
      "userId": "00800008926615240683"
     },
     "user_tz": 300
    },
    "id": "OjOL2E2TQNzi"
   },
   "outputs": [],
   "source": [
    "X = df['message'] #passing in the list of columns, which will be length of message and number of punctuation\n",
    "y = df['label'] #y is the label on if it's ham or spam\n",
    "\n",
    "X_train, X_test, y_train, y_test = train_test_split(X, y, test_size=0.25, random_state=117) #creating a train test split"
   ]
  },
  {
   "cell_type": "code",
   "execution_count": 6,
   "metadata": {
    "colab": {
     "base_uri": "https://localhost:8080/"
    },
    "executionInfo": {
     "elapsed": 341,
     "status": "ok",
     "timestamp": 1607110761661,
     "user": {
      "displayName": "Hojin Mok",
      "photoUrl": "",
      "userId": "00800008926615240683"
     },
     "user_tz": 300
    },
    "id": "xJ8nL2ctQ_o3",
    "outputId": "03fabf96-d2b7-475a-ddea-87646f550eb4"
   },
   "outputs": [
    {
     "data": {
      "text/plain": [
       "1417              No..few hours before.went to hair cut .\n",
       "2757    Have a good trip. Watch out for . Remember whe...\n",
       "3863                     Customer place, i wil cal u sir.\n",
       "4551    Hey! do u fancy meetin me at 4 at cha  hav a ...\n",
       "5233     Hey what how about your project. Started aha da.\n",
       "                              ...                        \n",
       "275                       No objection. My bf not coming.\n",
       "3671                        Ok thanx... Take care then...\n",
       "2385                               Sorry, I'll call later\n",
       "1136                      K do I need a login or anything\n",
       "3566    We know TAJ MAHAL as symbol of love. But the o...\n",
       "Name: message, Length: 4179, dtype: object"
      ]
     },
     "execution_count": 6,
     "metadata": {},
     "output_type": "execute_result"
    }
   ],
   "source": [
    "X_train"
   ]
  },
  {
   "cell_type": "code",
   "execution_count": 7,
   "metadata": {
    "colab": {
     "base_uri": "https://localhost:8080/"
    },
    "executionInfo": {
     "elapsed": 277,
     "status": "ok",
     "timestamp": 1607110767814,
     "user": {
      "displayName": "Hojin Mok",
      "photoUrl": "",
      "userId": "00800008926615240683"
     },
     "user_tz": 300
    },
    "id": "zanwj5wyRCru",
    "outputId": "ba777592-808b-45eb-f193-907c5d7a23bd"
   },
   "outputs": [
    {
     "data": {
      "text/plain": [
       "1417    ham\n",
       "2757    ham\n",
       "3863    ham\n",
       "4551    ham\n",
       "5233    ham\n",
       "       ... \n",
       "275     ham\n",
       "3671    ham\n",
       "2385    ham\n",
       "1136    ham\n",
       "3566    ham\n",
       "Name: label, Length: 4179, dtype: object"
      ]
     },
     "execution_count": 7,
     "metadata": {},
     "output_type": "execute_result"
    }
   ],
   "source": [
    "y_train"
   ]
  },
  {
   "cell_type": "markdown",
   "metadata": {
    "id": "0v7TwWCuWOUx"
   },
   "source": [
    "# **Part 2: Creating a Pipeline to Fit and Transform**"
   ]
  },
  {
   "cell_type": "code",
   "execution_count": 10,
   "metadata": {
    "colab": {
     "base_uri": "https://localhost:8080/"
    },
    "executionInfo": {
     "elapsed": 294,
     "status": "ok",
     "timestamp": 1607111074791,
     "user": {
      "displayName": "Hojin Mok",
      "photoUrl": "",
      "userId": "00800008926615240683"
     },
     "user_tz": 300
    },
    "id": "7tS942DLR_KM",
    "outputId": "016378c7-5dfa-42e7-8ac3-31293f542813"
   },
   "outputs": [
    {
     "data": {
      "text/plain": [
       "(4179,)"
      ]
     },
     "execution_count": 10,
     "metadata": {},
     "output_type": "execute_result"
    }
   ],
   "source": [
    "#Below is to show what TfidfVectorizer does to the train data\n",
    "X_train.shape #so original shape of 4179 messages"
   ]
  },
  {
   "cell_type": "code",
   "execution_count": 13,
   "metadata": {
    "colab": {
     "base_uri": "https://localhost:8080/"
    },
    "executionInfo": {
     "elapsed": 324,
     "status": "ok",
     "timestamp": 1607111966394,
     "user": {
      "displayName": "Hojin Mok",
      "photoUrl": "",
      "userId": "00800008926615240683"
     },
     "user_tz": 300
    },
    "id": "pktrcKNmVHdR",
    "outputId": "af17d611-d981-4543-9ee2-f163cb8ef708"
   },
   "outputs": [
    {
     "data": {
      "text/plain": [
       "(4179, 7462)"
      ]
     },
     "execution_count": 13,
     "metadata": {},
     "output_type": "execute_result"
    }
   ],
   "source": [
    "#TfidfVectorizer first performs a counter vectorization on each unique word, then applies a Tfidf transform on the unique words\n",
    "vectorizer = TfidfVectorizer()\n",
    "X_train_tfidf = vectorizer.fit_transform(X_train)\n",
    "X_train_tfidf.shape #resulting shape now detected 7462 unique words over 4179 messages "
   ]
  },
  {
   "cell_type": "code",
   "execution_count": 15,
   "metadata": {
    "executionInfo": {
     "elapsed": 372,
     "status": "ok",
     "timestamp": 1607112300562,
     "user": {
      "displayName": "Hojin Mok",
      "photoUrl": "",
      "userId": "00800008926615240683"
     },
     "user_tz": 300
    },
    "id": "DWp_cIDrV5IX"
   },
   "outputs": [],
   "source": [
    "#Our pipeline does the following steps:\n",
    "#Step 1: Count vectorize each unique word then apply TFIDF feature extraction transform on X_train data. This is done using TfidfVectorizer() imported above \n",
    "#Step 2: Fit the data using LinearSVC. The purpose of the Support Vector Classifier is to fit to the data and return a best fit hyperplane that categorizes our data\n",
    "text_clf = Pipeline([('tfidf', TfidfVectorizer()), ('clf', LinearSVC())]) #so each tuple in the pipeline is a step, starting with the TfidfVectorizer, then utilizing LinearSVC"
   ]
  },
  {
   "cell_type": "code",
   "execution_count": 16,
   "metadata": {
    "colab": {
     "base_uri": "https://localhost:8080/"
    },
    "executionInfo": {
     "elapsed": 398,
     "status": "ok",
     "timestamp": 1607112383902,
     "user": {
      "displayName": "Hojin Mok",
      "photoUrl": "",
      "userId": "00800008926615240683"
     },
     "user_tz": 300
    },
    "id": "U9OGwABaW5Zf",
    "outputId": "024cb4e1-cb81-444e-ce43-a5251599ecc0"
   },
   "outputs": [
    {
     "data": {
      "text/plain": [
       "Pipeline(memory=None,\n",
       "         steps=[('tfidf',\n",
       "                 TfidfVectorizer(analyzer='word', binary=False,\n",
       "                                 decode_error='strict',\n",
       "                                 dtype=<class 'numpy.float64'>,\n",
       "                                 encoding='utf-8', input='content',\n",
       "                                 lowercase=True, max_df=1.0, max_features=None,\n",
       "                                 min_df=1, ngram_range=(1, 1), norm='l2',\n",
       "                                 preprocessor=None, smooth_idf=True,\n",
       "                                 stop_words=None, strip_accents=None,\n",
       "                                 sublinear_tf=False,\n",
       "                                 token_pattern='(?u)\\\\b\\\\w\\\\w+\\\\b',\n",
       "                                 tokenizer=None, use_idf=True,\n",
       "                                 vocabulary=None)),\n",
       "                ('clf',\n",
       "                 LinearSVC(C=1.0, class_weight=None, dual=True,\n",
       "                           fit_intercept=True, intercept_scaling=1,\n",
       "                           loss='squared_hinge', max_iter=1000,\n",
       "                           multi_class='ovr', penalty='l2', random_state=None,\n",
       "                           tol=0.0001, verbose=0))],\n",
       "         verbose=False)"
      ]
     },
     "execution_count": 16,
     "metadata": {},
     "output_type": "execute_result"
    }
   ],
   "source": [
    "text_clf.fit(X_train,y_train) #now we just called our pipelines and ran our X_train & y_train to it. We didn't need to create an instance of each item and fit them separately"
   ]
  },
  {
   "cell_type": "markdown",
   "metadata": {
    "id": "oe5yO7pjYXDh"
   },
   "source": [
    "# **Part 3 - Predicting and Results**"
   ]
  },
  {
   "cell_type": "code",
   "execution_count": 17,
   "metadata": {
    "colab": {
     "base_uri": "https://localhost:8080/",
     "height": 111
    },
    "executionInfo": {
     "elapsed": 346,
     "status": "ok",
     "timestamp": 1607112466004,
     "user": {
      "displayName": "Hojin Mok",
      "photoUrl": "",
      "userId": "00800008926615240683"
     },
     "user_tz": 300
    },
    "id": "zz7GcXq3XNsJ",
    "outputId": "a6813f7e-fe47-4bb3-cdce-d95146033e29"
   },
   "outputs": [
    {
     "data": {
      "text/html": [
       "<div>\n",
       "<style scoped>\n",
       "    .dataframe tbody tr th:only-of-type {\n",
       "        vertical-align: middle;\n",
       "    }\n",
       "\n",
       "    .dataframe tbody tr th {\n",
       "        vertical-align: top;\n",
       "    }\n",
       "\n",
       "    .dataframe thead th {\n",
       "        text-align: right;\n",
       "    }\n",
       "</style>\n",
       "<table border=\"1\" class=\"dataframe\">\n",
       "  <thead>\n",
       "    <tr style=\"text-align: right;\">\n",
       "      <th></th>\n",
       "      <th>ham</th>\n",
       "      <th>spam</th>\n",
       "    </tr>\n",
       "  </thead>\n",
       "  <tbody>\n",
       "    <tr>\n",
       "      <th>ham</th>\n",
       "      <td>1210</td>\n",
       "      <td>4</td>\n",
       "    </tr>\n",
       "    <tr>\n",
       "      <th>spam</th>\n",
       "      <td>17</td>\n",
       "      <td>162</td>\n",
       "    </tr>\n",
       "  </tbody>\n",
       "</table>\n",
       "</div>"
      ],
      "text/plain": [
       "       ham  spam\n",
       "ham   1210     4\n",
       "spam    17   162"
      ]
     },
     "execution_count": 17,
     "metadata": {},
     "output_type": "execute_result"
    }
   ],
   "source": [
    "predictions = text_clf.predict(X_test)\n",
    "\n",
    "df = pd.DataFrame(metrics.confusion_matrix(y_test,predictions), index=['ham','spam'], columns=['ham','spam'])\n",
    "df "
   ]
  },
  {
   "cell_type": "code",
   "execution_count": 18,
   "metadata": {
    "colab": {
     "base_uri": "https://localhost:8080/"
    },
    "executionInfo": {
     "elapsed": 320,
     "status": "ok",
     "timestamp": 1607112479299,
     "user": {
      "displayName": "Hojin Mok",
      "photoUrl": "",
      "userId": "00800008926615240683"
     },
     "user_tz": 300
    },
    "id": "uGqJSkBQXdGs",
    "outputId": "e0f495ff-0ab1-47b1-906b-23862c71691f"
   },
   "outputs": [
    {
     "name": "stdout",
     "output_type": "stream",
     "text": [
      "              precision    recall  f1-score   support\n",
      "\n",
      "         ham       0.99      1.00      0.99      1214\n",
      "        spam       0.98      0.91      0.94       179\n",
      "\n",
      "    accuracy                           0.98      1393\n",
      "   macro avg       0.98      0.95      0.97      1393\n",
      "weighted avg       0.98      0.98      0.98      1393\n",
      "\n"
     ]
    }
   ],
   "source": [
    "print(classification_report(y_test,predictions)) "
   ]
  },
  {
   "cell_type": "code",
   "execution_count": 19,
   "metadata": {
    "colab": {
     "base_uri": "https://localhost:8080/"
    },
    "executionInfo": {
     "elapsed": 308,
     "status": "ok",
     "timestamp": 1607112552895,
     "user": {
      "displayName": "Hojin Mok",
      "photoUrl": "",
      "userId": "00800008926615240683"
     },
     "user_tz": 300
    },
    "id": "nYam5QxJXlDi",
    "outputId": "958cddca-381e-46d3-a843-99c7ea44c759"
   },
   "outputs": [
    {
     "name": "stdout",
     "output_type": "stream",
     "text": [
      "0.9849246231155779\n"
     ]
    }
   ],
   "source": [
    "print(metrics.accuracy_score(y_test,predictions))"
   ]
  },
  {
   "cell_type": "code",
   "execution_count": 20,
   "metadata": {
    "colab": {
     "base_uri": "https://localhost:8080/"
    },
    "executionInfo": {
     "elapsed": 497,
     "status": "ok",
     "timestamp": 1607112714246,
     "user": {
      "displayName": "Hojin Mok",
      "photoUrl": "",
      "userId": "00800008926615240683"
     },
     "user_tz": 300
    },
    "id": "3IihHM7cXz-x",
    "outputId": "8a2f63d1-85e8-4109-8385-d4416994a0e6"
   },
   "outputs": [
    {
     "data": {
      "text/plain": [
       "array(['ham'], dtype=object)"
      ]
     },
     "execution_count": 20,
     "metadata": {},
     "output_type": "execute_result"
    }
   ],
   "source": [
    "text_clf.predict(['Hi how are you doing today?']) #tells me this is ham"
   ]
  },
  {
   "cell_type": "code",
   "execution_count": 16,
   "metadata": {
    "colab": {
     "base_uri": "https://localhost:8080/"
    },
    "executionInfo": {
     "elapsed": 345,
     "status": "ok",
     "timestamp": 1607112731175,
     "user": {
      "displayName": "Hojin Mok",
      "photoUrl": "",
      "userId": "00800008926615240683"
     },
     "user_tz": 300
    },
    "id": "pcfSkba_YeXx",
    "outputId": "845815de-2d08-4cca-f335-1fe318ad2c19"
   },
   "outputs": [
    {
     "data": {
      "text/plain": [
       "array(['ham'], dtype=object)"
      ]
     },
     "execution_count": 16,
     "metadata": {},
     "output_type": "execute_result"
    }
   ],
   "source": [
    "text_clf.predict(['Halo is my favourite video game series, what about you!?']) #tells me this is ham"
   ]
  },
  {
   "cell_type": "code",
   "execution_count": 18,
   "metadata": {
    "id": "_oXvvWc9YoUy"
   },
   "outputs": [
    {
     "data": {
      "text/plain": [
       "array(['ham'], dtype=object)"
      ]
     },
     "execution_count": 18,
     "metadata": {},
     "output_type": "execute_result"
    }
   ],
   "source": [
    "text_clf.predict(['Come follow my puppy, @jindodooboo on instagram!']) #tells me this is ham"
   ]
  },
  {
   "cell_type": "code",
   "execution_count": 22,
   "metadata": {
    "colab": {
     "base_uri": "https://localhost:8080/"
    },
    "executionInfo": {
     "elapsed": 310,
     "status": "ok",
     "timestamp": 1607112754825,
     "user": {
      "displayName": "Hojin Mok",
      "photoUrl": "",
      "userId": "00800008926615240683"
     },
     "user_tz": 300
    },
    "id": "yAEE-dvZYiiu",
    "outputId": "f526dd74-af04-48cb-f907-46832346a70e"
   },
   "outputs": [
    {
     "data": {
      "text/plain": [
       "array(['spam'], dtype=object)"
      ]
     },
     "execution_count": 22,
     "metadata": {},
     "output_type": "execute_result"
    }
   ],
   "source": [
    "text_clf.predict(['Congratulations, you are a winner. Text 117 to get entry to a contest']) #tells me this is spam"
   ]
  },
  {
   "cell_type": "code",
   "execution_count": 20,
   "metadata": {},
   "outputs": [
    {
     "data": {
      "text/plain": [
       "array(['spam'], dtype=object)"
      ]
     },
     "execution_count": 20,
     "metadata": {},
     "output_type": "execute_result"
    }
   ],
   "source": [
    "text_clf.predict(['LAST CHANCE TO CLAIM YOUR FREE PRIZE, A COPY OF HALO 3']) #tells me this is spam"
   ]
  },
  {
   "cell_type": "code",
   "execution_count": null,
   "metadata": {
    "id": "_oXvvWc9YoUy"
   },
   "outputs": [],
   "source": []
  }
 ],
 "metadata": {
  "colab": {
   "authorship_tag": "ABX9TyN0htxcnJHu5BHhe3NsKvt7",
   "collapsed_sections": [],
   "mount_file_id": "1iajGpGZX2NOuEbksdI7H4U0Deo6bpsBp",
   "name": "Text Feature Extraction.ipynb",
   "provenance": []
  },
  "kernelspec": {
   "display_name": "Python 3",
   "language": "python",
   "name": "python3"
  },
  "language_info": {
   "codemirror_mode": {
    "name": "ipython",
    "version": 3
   },
   "file_extension": ".py",
   "mimetype": "text/x-python",
   "name": "python",
   "nbconvert_exporter": "python",
   "pygments_lexer": "ipython3",
   "version": "3.7.7"
  }
 },
 "nbformat": 4,
 "nbformat_minor": 4
}
